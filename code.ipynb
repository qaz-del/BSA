{
 "cells": [
  {
   "cell_type": "code",
   "execution_count": 1,
   "metadata": {},
   "outputs": [],
   "source": [
    "import numpy as np\n",
    "from matplotlib import pyplot as plt\n",
    "import math\n",
    "import random\n",
    "from scipy.special import gamma"
   ]
  },
  {
   "cell_type": "code",
   "execution_count": 2,
   "metadata": {},
   "outputs": [],
   "source": [
    "####  测试函数集\n",
    "\n",
    "\n",
    "# F1\n",
    "# 每维度的取值范围[-100,100]\n",
    "# 维度  20\n",
    "from math import sqrt\n",
    "\n",
    "\n",
    "def F1(x):\n",
    "    sum=0.0\n",
    "    for i in x:\n",
    "        sum+=(i**2)\n",
    "    return sum\n",
    "\n",
    "# F2\n",
    "# 每维度的取值范围[-100,100]\n",
    "# 维度  20\n",
    "def F2(x):\n",
    "    sum=0.0\n",
    "    for i in range(len(x)):\n",
    "        tmp=0.0\n",
    "        for j in range(i):\n",
    "            tmp+=x[j]\n",
    "        sum+=tmp**2\n",
    "\n",
    "    return sum\n",
    "\n",
    "# F3\n",
    "# 每维度的取值范围[-100,100]\n",
    "# 维度  20\n",
    "def F3(x):\n",
    "    return np.max(np.abs(x))\n",
    "\n",
    "# F4\n",
    "# 每维度的取值范围[-10,10]\n",
    "# 维度  20\n",
    "def F4(x):\n",
    "    sum=0.0\n",
    "    acc=1.0\n",
    "    for i in x:\n",
    "        sum+=np.abs(i)\n",
    "        acc*=np.abs(i)\n",
    "    return sum+acc\n",
    "\n",
    "# F5\n",
    "# 每维度的取值范围[-100,100]\n",
    "# 维度  20\n",
    "def F5(x):\n",
    "    sum=0.0\n",
    "    for i in x:\n",
    "        sum+=(round(i+0.5)**2)\n",
    "    return sum\n",
    "\n",
    "# F6\n",
    "# 每维度的取值范围[-1,1]\n",
    "# 维度  20\n",
    "def F6(x):\n",
    "    sum=0.0\n",
    "    for i in range(len(x)):\n",
    "        sum+=math.pow(np.abs(x[i]),i+1)\n",
    "    return sum\n",
    "\n",
    "# F7\n",
    "# 每维度的取值范围[-5,10]\n",
    "# 维度  20\n",
    "def F7(x):\n",
    "    sum1=0.0\n",
    "    sum2=0.0\n",
    "    for i in range(len(x)):\n",
    "        sum1+=(x[i]**2)\n",
    "        sum2+=0.5*x[i]*i\n",
    "    return sum1+sum2**2+sum2**4\n",
    "\n",
    "# F8\n",
    "# 每维度的取值范围[-5.12,5.12]\n",
    "# 维度  20\n",
    "def F8(x):\n",
    "    sum1=0.0\n",
    "    for i in range(len(x)):\n",
    "        sum1+=(i*x[i]**2)\n",
    "    return sum1\n",
    "\n",
    "# F9\n",
    "# 每维度的取值范围[-5.12,5.12]\n",
    "# 维度  20\n",
    "def F9(x):\n",
    "    sum1=0.0\n",
    "    for i in range(len(x)):\n",
    "        sum1+=(x[i]**2-10*np.cos(2*np.pi*x[i])+10)\n",
    "    return sum1\n",
    "\n",
    "# F10\n",
    "# 每维度的取值范围[-32,32]\n",
    "# 维度  20\n",
    "def F10(x):\n",
    "    sum1=0.0\n",
    "    sum2=0.0\n",
    "    for i in range(len(x)):\n",
    "        sum1+=(x[i]**2)\n",
    "        sum2+=np.cos(2*np.pi*x[i]*x[i])\n",
    "    \n",
    "    return -20*np.exp((-0.2*np.sqrt(sum1/20)))-np.exp(0.05*sum2)+20+np.e\n",
    "\n",
    "# F11\n",
    "# 每维度的取值范围[-600,600]\n",
    "# 维度  20\n",
    "def F11(x):\n",
    "    sum1=0.0\n",
    "    sum2=1.0\n",
    "    for i in range(len(x)):\n",
    "        sum1+=(x[i]**2)\n",
    "        sum2*=np.cos(x[i]/sqrt(i+1))\n",
    "    \n",
    "    return sum1/4000-sum2+1\n",
    "\n",
    "\n",
    "# F12\n",
    "# 每维度的取值范围[-512,512]\n",
    "# 维度  2\n",
    "# x[0]为x,x[1]为y\n",
    "def F12(x):\n",
    "    t1=sqrt(np.abs(x[1]+1-x[0]))\n",
    "    t2=sqrt(np.abs(x[1]+1+x[0]))\n",
    "    return x[0]*np.sin(t1)*np.cos(t2)+(x[1]+1)*np.cos(t1)*np.sin(t2)\n",
    "\n",
    "# F13\n",
    "# 每维度的取值范围[-5.12,5.12]\n",
    "# 维度  2\n",
    "# x[0]为x,x[1]为y\n",
    "def F13(x):\n",
    "    t=x[0]*x[0]+x[1]*x[1]\n",
    "    return -(3/(0.05+t))**2-t**2\n",
    "\n",
    "# F14\n",
    "# 每维度的取值范围[-5,5]\n",
    "# 维度  2\n",
    "# x[0]为x,x[1]为y\n",
    "def F14(x):\n",
    "    t1=x[0]**4+x[1]**4\n",
    "    t2=x[0]**2+x[1]**2\n",
    "    t3=x[0]+x[1]\n",
    "    return 0.5*(t1-16*t2+5*t3)\n",
    "\n",
    "# F15\n",
    "# 每维度的取值范围[-10,10]\n",
    "# 维度  2\n",
    "# x[0]为x,x[1]为y\n",
    "def F15(x):\n",
    "    t1=x[0]**2+x[1]**2\n",
    "    return 0.26*t1-0.48*x[0]*x[1]\n",
    "\n",
    "\n",
    "# F16\n",
    "# 每维度的取值范围[-4.5,4.5]\n",
    "# 维度  2\n",
    "#\n",
    "def F16(x):\n",
    "    t1=1.5-x[0]+x[1]*x[0]\n",
    "    t2=2.25-x[0]+x[1]**2*x[0]\n",
    "    t3=2.625-x[0]+x[1]**3*x[0]\n",
    "    return t1**2+t2**2+t3**2\n",
    "\n",
    "# F17\n",
    "# 每维度的取值范围[-10,10]\n",
    "# 维度  2\n",
    "#\n",
    "def F17(x):\n",
    "    return 1+np.sin(x[0])**2+np.sin(x[1])**2-0.1*np.exp(-(x[0]**2+x[1]**2))\n",
    "\n",
    "# F18\n",
    "# 每维度的取值范围[-10,10]\n",
    "# 维度  2\n",
    "#\n",
    "def F18(x):\n",
    "    s1=0.0\n",
    "    s2=0.0\n",
    "    for ii in range(5):\n",
    "        i=ii+1\n",
    "        s1+=i*(np.cos((i-1)*x[0])+1)\n",
    "        s2+=i*(np.cos((i+1)*x[1])+1)\n",
    "    return s1*s2+(x[0]+1.42513)**2+(x[1]+0.80032)**2\n"
   ]
  },
  {
   "cell_type": "code",
   "execution_count": 38,
   "metadata": {},
   "outputs": [],
   "source": [
    "\n",
    "class BSA():\n",
    "    def __init__(self,func_solve,N,ND,M,FQ,P,C,S,a1,a2,FL,lb,ub,on=False) -> None:\n",
    "        self.func=func_solve\n",
    "        self.N=N\n",
    "        self.ND=ND\n",
    "        self.M=M\n",
    "        self.FQ=FQ\n",
    "        self.P=P\n",
    "        self.C=C\n",
    "        self.S=S\n",
    "        self.a1=a1\n",
    "        self.a2=a2\n",
    "        self.FL=FL\n",
    "        self.pbest=[] # 保存每个个体历史最佳位置\n",
    "        self.gbest=[] # 保存群体历史最佳位置\n",
    "        self.lb=lb\n",
    "        self.ub=ub\n",
    "        self.history_best_Y=[]\n",
    "        self.on=on\n",
    "\n",
    "        self.pos=np.random.uniform(low=lb, high=ub, size=(self.N, self.ND)) # 记录每次迭代各个体的位置\n",
    "        self.best_y=0\n",
    "\n",
    "\n",
    "        self.avg_best=0\n",
    "        \n",
    "\n",
    "\n",
    "\n",
    "\n",
    "    def fitness(self):\n",
    "        fit_val=[]\n",
    "        for i in self.pos:\n",
    "            fit_val.append(self.func(i))\n",
    "        return np.array(fit_val)\n",
    "\n",
    "    def findgbest(self,fit_val):\n",
    "        index=np.argmin(fit_val)\n",
    "        return self.pos[index]\n",
    "    \n",
    "    def updatebest(self,fit_val):\n",
    "        for i in range(self.N):\n",
    "            if self.func(self.pos[i])<self.func(self.pbest[i]):\n",
    "                # 需要更新\n",
    "                self.pbest[i]=self.pos[i]\n",
    "        \n",
    "        if np.min(fit_val)<self.func(self.gbest):\n",
    "            self.gbest=self.pos[np.argmin(fit_val)]\n",
    "\n",
    "    \n",
    "    def levy(self):\n",
    "        sigma=math.pow((gamma(2.5)*np.sin(np.pi*0.75)/(gamma(1.25)*1.5*math.pow(2,0.25))),2/3)\n",
    "\n",
    "        for i in range(len(self.pos)):\n",
    "\n",
    "            r1=np.random.randn(self.ND)\n",
    "            r2=np.random.randn(self.ND)\n",
    "            \n",
    "            self.pos[i]=self.lb+(self.ub-self.lb)*r1*sigma/math.pow(np.linalg.norm(r2),2/3)\n",
    "\n",
    "    \n",
    "    def update_C_and_S(self):\n",
    "        self.C-=2/self.M\n",
    "        self.S+=2/self.M\n",
    "        \n",
    "    def run(self):\n",
    "        t=0\n",
    "\n",
    "        # 初始化\n",
    "        # 已在init中对pos进行了初始化\n",
    "        # 对初始种群进行评估\n",
    "        fit_val=self.fitness()\n",
    "        self.pbest=self.pos\n",
    "        self.gbest=self.findgbest(fit_val)\n",
    "        self.history_best_Y.append((np.min(fit_val)))\n",
    "        while t<self.M:\n",
    "            if t%self.FQ!=0:  \n",
    "                # 没有找到食物\n",
    "                # 鸟群还在飞行\n",
    "                for i in range(self.N):\n",
    "                    if random.random()<self.P:\n",
    "                        ## 觅食\n",
    "                        self.pos[i]=self.pos[i]+\\\n",
    "                        (self.pbest[i]-self.pos[i])*self.C*np.random.rand(self.ND)+\\\n",
    "                        (self.gbest-self.pos[i])*self.S*np.random.rand(self.ND)\n",
    "                    else :\n",
    "                        ## 保持警戒\n",
    "                        sumvector=np.zeros(self.ND)\n",
    "                        for item in self.pos:\n",
    "                            sumvector+=item\n",
    "                        meanj=sumvector/self.N\n",
    "                        k=random.randint(0,self.N-1)\n",
    "                        if k==i:\n",
    "                            k=(k+1)%self.N\n",
    "                            \n",
    "                        sum=np.sum(fit_val)\n",
    "                        eps=10e-8\n",
    "\n",
    "                        #print(sum)\n",
    "                        A1=self.a1*np.exp(-self.N*fit_val[i]/(sum+eps))\n",
    "                        \n",
    "                        if A1>10:\n",
    "                            A1=10\n",
    "                        A2=self.a2*np.exp((fit_val[i]-fit_val[k])*self.N*fit_val[i]/(np.abs(fit_val[i]-fit_val[k])+sum+eps))\n",
    "                        \n",
    "                        #print(f\"分子为{(fit_val[i]-fit_val[k])*self.N*fit_val[i]},分母为{(np.abs(fit_val[i]-fit_val[k])+sum+eps)}\")\n",
    "                        if A2>10:\n",
    "                            A2=10\n",
    "                        # print(f\"A1为{A1}\")\n",
    "                        # print(f\"A2为{A2}\")\n",
    "                        self.pos[i]=self.pos[i]+\\\n",
    "                        (meanj-self.pos[i])*A1*np.random.rand(self.ND)+\\\n",
    "                        (self.pos[k]-self.pos[i])*A2*(2*np.random.rand(self.ND)-1)\n",
    "            \n",
    "            else :\n",
    "                ## 找到了食物\n",
    "                ## 划分为生产者和乞食者\n",
    "                producer=[]\n",
    "                scrounger=[]\n",
    "                bestindex=np.argmin(fit_val)\n",
    "                worstindex=np.argmax(fit_val)\n",
    "                producer.append(bestindex)\n",
    "                scrounger.append(worstindex)\n",
    "                for i in range(self.N):\n",
    "                    if i!=bestindex or i!=worstindex:\n",
    "                        if random.random()<0.5:\n",
    "                            producer.append(i)\n",
    "                        else:\n",
    "                            scrounger.append(i)\n",
    "\n",
    "                for bird in producer:\n",
    "                    self.pos[bird]=self.pos[bird]*(np.ones(self.ND)+np.random.randn(self.ND))\n",
    "\n",
    "                for bird in scrounger:\n",
    "                    self.pos[bird]=self.pos[bird]+(self.pos[bestindex]-self.pos[bird])*self.FL*np.random.rand(self.ND)\n",
    "            ## 到此获得新的一代种群\n",
    "            \n",
    "\n",
    "            #检查是否存在超出给定范围的值\n",
    "            for nbird in self.pos:\n",
    "                #print(nbird)\n",
    "                for d in range(self.ND):\n",
    "                    # print(d)\n",
    "                    # print(nbird[d])\n",
    "                    # print(self.ub[d])\n",
    "                    nbird[d]=nbird[d] if nbird[d] <self.ub[d] else self.ub[d]\n",
    "                    nbird[d]=nbird[d] if nbird[d] >self.lb[d] else self.lb[d]\n",
    "\n",
    "\n",
    "            fit_val=self.fitness()\n",
    "\n",
    "            \"\"\"\n",
    "            如果需要调用run_manytimes，需要注释此处的提前退出条件\n",
    "            可能导致hist_best维度不同出现错误\n",
    "            \"\"\"\n",
    "        \n",
    "            # if t>30 and np.abs(np.min(fit_val)-np.mean(self.history_best_Y[-20:]))<10e-20:\n",
    "            #     break\n",
    "            self.history_best_Y.append(np.min(fit_val))\n",
    "            if self.on:\n",
    "                self.update_C_and_S()\n",
    "            #更新pbest，gbest\n",
    "            self.updatebest(fit_val)\n",
    "\n",
    "\n",
    "            ## 判断是否已经收敛\n",
    "            t+=1\n",
    "\n",
    "        self.best_y=np.min(self.history_best_Y)\n",
    "\n",
    "\n",
    "    def run_manytimes(self):\n",
    "        avg_hist_best=np.zeros(self.M)\n",
    "        for i in range(30):\n",
    "            self.run()\n",
    "            avg_hist_best+=self.history_best_Y[:self.M]\n",
    "            self.avg_best+=self.best_y\n",
    "            self.history_best_Y=[]\n",
    "            self.gbest=[]\n",
    "            self.pbest=[]\n",
    "\n",
    "\n",
    "        avg_hist_best=avg_hist_best/self.M\n",
    "        self.avg_best=self.avg_best/self.M\n",
    "\n",
    "        return avg_hist_best,self.avg_best\n",
    "\n"
   ]
  },
  {
   "cell_type": "code",
   "execution_count": 30,
   "metadata": {},
   "outputs": [
    {
     "name": "stdout",
     "output_type": "stream",
     "text": [
      "1.6653345369377347e-17\n"
     ]
    },
    {
     "data": {
      "text/plain": [
       "[<matplotlib.lines.Line2D at 0x2093edfa3a0>]"
      ]
     },
     "execution_count": 30,
     "metadata": {},
     "output_type": "execute_result"
    },
    {
     "data": {
      "image/png": "[encoded data removed]",
      "text/plain": [
       "<Figure size 432x288 with 1 Axes>"
      ]
     },
     "metadata": {
      "needs_background": "light"
     },
     "output_type": "display_data"
    }
   ],
   "source": [
    "func_need_solve=F10\n",
    "nd=20\n",
    "lb=-32*np.ones(nd)\n",
    "ub=32*np.ones(nd)\n",
    "bsa=BSA(func_need_solve,N=50,ND=nd,M=800,FQ=3,P=0.9,C=1.5,S=1.5,a1=1,a2=1,FL=0.8,lb=lb,ub=ub)\n",
    "l,a=bsa.run_manytimes()\n",
    "\n",
    "print(a)\n",
    "plt.plot(l)"
   ]
  },
  {
   "cell_type": "code",
   "execution_count": 102,
   "metadata": {},
   "outputs": [],
   "source": [
    "\n",
    "## 从其他算法，如PSO，DE等算法\n",
    "from sko.PSO import PSO\n",
    "from sko.DE import DE\n",
    "\n",
    "\n",
    "func_need_solve=F10\n",
    "nd=20\n",
    "lb=-32*np.ones(nd)\n",
    "ub=32*np.ones(nd)\n",
    "\n",
    "pso=PSO(func_need_solve,n_dim=nd,lb=lb,max_iter=2000,ub=ub,w=0.729,c1=1.49445,c2=1.49445)\n",
    "pso.run()\n",
    "de=DE(func_need_solve,nd,F=0.6,prob_mut=0.9,lb=lb,ub=ub,max_iter=2000)\n",
    "de.run()\n",
    "bsa=BSA(func_need_solve,N=50,ND=nd,M=2000,FQ=3,P=0.9,C=1.5,S=1.5,a1=1,a2=1,FL=0.8,lb=lb,ub=ub)\n",
    "bsa.run()"
   ]
  },
  {
   "cell_type": "code",
   "execution_count": 103,
   "metadata": {},
   "outputs": [
    {
     "name": "stdout",
     "output_type": "stream",
     "text": [
      "2000\n",
      "2000\n",
      "252\n",
      "[19.9609228]\n",
      "[3.99680289e-15]\n",
      "3.9968028886505635e-15\n"
     ]
    }
   ],
   "source": [
    "print(len(pso.gbest_y_hist))\n",
    "print(len(de.generation_best_Y))\n",
    "print(len(bsa.history_best_Y))\n",
    "\n",
    "print(pso.best_y)\n",
    "print(de.best_y)\n",
    "print(bsa.best_y)"
   ]
  },
  {
   "cell_type": "code",
   "execution_count": 86,
   "metadata": {},
   "outputs": [
    {
     "data": {
      "text/plain": [
       "<matplotlib.legend.Legend at 0x20a89310df0>"
      ]
     },
     "execution_count": 86,
     "metadata": {},
     "output_type": "execute_result"
    },
    {
     "data": {
      "image/png": "[encoded data removed]",
      "text/plain": [
       "<Figure size 432x288 with 1 Axes>"
      ]
     },
     "metadata": {
      "needs_background": "light"
     },
     "output_type": "display_data"
    }
   ],
   "source": [
    "#plt.cla()\n",
    "plt.rcParams['font.sans-serif']=['SimHei'] #用来正常显示中文标签\n",
    "plt.rcParams['axes.unicode_minus']=False #用来正常显示负号\n",
    "\n",
    "fig=plt.figure()\n",
    "plt.plot(pso.gbest_y_hist,'r',label=\"PSO\")\n",
    "plt.plot(de.generation_best_Y,'g',label=\"DE\")\n",
    "plt.plot(bsa.history_best_Y,'b',label=\"BSA\")\n",
    "plt.legend()\n",
    "\n",
    "#plt.savefig(\"F10的曲线\")"
   ]
  },
  {
   "cell_type": "markdown",
   "metadata": {},
   "source": [
    "# 此Markdown单元格用于记录求得的最优值\n",
    "## 前面几个函数最小值不为0的原因是设置了提前退出的阈值\n",
    "## 当这一次与之前的20次的差距不足10e-10时退出\n",
    "F1   8.993545653299736e-12\n",
    "F2   8.516877611855528e-11\n",
    "F3   3.477512364390343e-10\n",
    "F4   1.7197647148095475e-10\n",
    "F5   0.0\n",
    "F6   3.740887124637084e-24\n",
    "F7   2.4185537905168297e-20\n",
    "F8   4.9447061698310023e-23\n",
    "F9   0.0\n",
    "F10  15.181083062331139  // 大问题\n",
    "F11  0.0\n",
    "F12  -511.7318052628272\n",
    "F13  -3600.0\n",
    "F14  -78.33230881015902\n",
    "F15  5.655726204830158e-25\n",
    "F16  3.7596099175887733e-06\n",
    "F17  0.9\n",
    "F18  35.5683594055847  // 其他两个算法也是类似的结果\n",
    "150\n",
    "200\n",
    "1501\n",
    "[35.56833667]\n",
    "[35.56833667]\n",
    "35.5683594055847"
   ]
  },
  {
   "cell_type": "code",
   "execution_count": 4,
   "metadata": {},
   "outputs": [],
   "source": [
    "func_need_solve=F5\n",
    "nd=20\n",
    "lb=-100*np.ones(nd)\n",
    "ub=100*np.ones(nd)"
   ]
  },
  {
   "cell_type": "code",
   "execution_count": 5,
   "metadata": {},
   "outputs": [
    {
     "name": "stderr",
     "output_type": "stream",
     "text": [
      "C:\\Users\\12752\\AppData\\Local\\Temp\\ipykernel_6756\\8897037.py:97: RuntimeWarning: overflow encountered in exp\n",
      "  A2=self.a2*np.exp((fit_val[i]-fit_val[k])*self.N*fit_val[i]/(np.abs(fit_val[i]-fit_val[k])+sum+eps))\n"
     ]
    },
    {
     "data": {
      "text/plain": [
       "<matplotlib.legend.Legend at 0x2093e35ac10>"
      ]
     },
     "execution_count": 5,
     "metadata": {},
     "output_type": "execute_result"
    },
    {
     "data": {
      "image/png": "[encoded data removed]",
      "text/plain": [
       "<Figure size 432x288 with 1 Axes>"
      ]
     },
     "metadata": {
      "needs_background": "light"
     },
     "output_type": "display_data"
    }
   ],
   "source": [
    "## 对FQ的调参\n",
    "\n",
    "from matplotlib.pyplot import legend\n",
    "\n",
    "\n",
    "for fq in range(1,6):\n",
    "    bsa=BSA(func_need_solve,N=50,ND=nd,M=1500,FQ=fq,P=0.9,C=1.5,S=1.5,a1=1,a2=1,FL=0.8,lb=lb,ub=ub)\n",
    "    bsa.run()\n",
    "    plt.plot(bsa.history_best_Y,label=f\"FQ={fq}\")\n",
    "\n",
    "plt.legend()"
   ]
  },
  {
   "cell_type": "code",
   "execution_count": null,
   "metadata": {},
   "outputs": [],
   "source": [
    "## 对FL的调参\n",
    "for fl in np.linspace(0.5,0.9,5):\n",
    "    bsa=BSA(func_need_solve,N=50,ND=nd,M=1500,FQ=3,P=0.9,C=1.5,S=1.5,a1=1,a2=1,FL=fl,lb=lb,ub=ub)\n",
    "    bsa.run()\n",
    "    plt.plot(bsa.history_best_Y,label=f\"FL={fl}\")\n",
    "\n",
    "plt.legend()"
   ]
  },
  {
   "cell_type": "code",
   "execution_count": 48,
   "metadata": {},
   "outputs": [
    {
     "data": {
      "text/plain": [
       "<matplotlib.legend.Legend at 0x2094270cdc0>"
      ]
     },
     "execution_count": 48,
     "metadata": {},
     "output_type": "execute_result"
    },
    {
     "data": {
      "image/png": "[encoded data removed]",
      "text/plain": [
       "<Figure size 432x288 with 1 Axes>"
      ]
     },
     "metadata": {
      "needs_background": "light"
     },
     "output_type": "display_data"
    }
   ],
   "source": [
    "## 对P的调参\n",
    "func_need_solve=F11\n",
    "for p in np.linspace(0.6,1,5):\n",
    "    bsa=BSA(func_need_solve,N=50,ND=nd,M=1500,FQ=3,P=p,C=1.5,S=1.5,a1=1,a2=1,FL=fl,lb=lb,ub=ub)\n",
    "    l,a=bsa.run_manytimes()\n",
    "    plt.plot(l,label=f\"P={p}\")\n",
    "\n",
    "plt.legend()"
   ]
  },
  {
   "cell_type": "code",
   "execution_count": 31,
   "metadata": {},
   "outputs": [
    {
     "name": "stdout",
     "output_type": "stream",
     "text": [
      "不使用levy的迭代次数0,最佳答案为0.9\n",
      "使用levy的迭代次数0,最佳答案为0.9\n"
     ]
    },
    {
     "data": {
      "image/png": "[encoded data removed]",
      "text/plain": [
       "<Figure size 432x288 with 1 Axes>"
      ]
     },
     "metadata": {
      "needs_background": "light"
     },
     "output_type": "display_data"
    }
   ],
   "source": [
    "## levy优化\n",
    "func_need_solve=F17\n",
    "nd=2\n",
    "lb=-10*np.ones(nd)\n",
    "ub=10*np.ones(nd)\n",
    "\n",
    "bsa1=BSA(func_need_solve,N=50,ND=nd,M=1000,FQ=3,P=0.9,C=1.5,S=1.5,a1=1,a2=1,FL=0.8,lb=lb,ub=ub)\n",
    "bsa1.run_manytimes()\n",
    "\n",
    "plt.plot(bsa1.history_best_Y,label=\"without levy\")\n",
    "\n",
    "\n",
    "bsa2=BSA(func_need_solve,N=50,ND=nd,M=1000,FQ=3,P=0.9,C=1.5,S=1.5,a1=1,a2=1,FL=0.8,lb=lb,ub=ub)\n",
    "bsa2.levy()\n",
    "\n",
    "bsa2.run_manytimes()\n",
    "plt.plot(bsa2.history_best_Y,label=\"with levy\")\n",
    "\n",
    "plt.legend()\n",
    "\n",
    "print(f\"不使用levy的迭代次数{len(bsa1.history_best_Y)},最佳答案为{bsa1.best_y}\")\n",
    "print(f\"使用levy的迭代次数{len(bsa2.history_best_Y)},最佳答案为{bsa2.best_y}\")"
   ]
  },
  {
   "cell_type": "code",
   "execution_count": 12,
   "metadata": {},
   "outputs": [
    {
     "name": "stdout",
     "output_type": "stream",
     "text": [
      "不使用线性学习因子的迭代次数1501,最佳答案为0.9\n",
      "使用线性学习因子的迭代次数46,最佳答案为0.9\n"
     ]
    },
    {
     "data": {
      "image/png": "[encoded data removed]",
      "text/plain": [
       "<Figure size 432x288 with 1 Axes>"
      ]
     },
     "metadata": {
      "needs_background": "light"
     },
     "output_type": "display_data"
    }
   ],
   "source": [
    "## 学习因子\n",
    "plt.rcParams['font.sans-serif']=['SimHei'] #用来正常显示中文标签\n",
    "plt.rcParams['axes.unicode_minus']=False #用来正常显示负号\n",
    "\n",
    "func_need_solve=F17\n",
    "nd=2\n",
    "lb=-10*np.ones(nd)\n",
    "ub=10*np.ones(nd)\n",
    "\n",
    "bsa1=BSA(func_need_solve,N=50,ND=nd,M=1500,FQ=3,P=0.9,C=1.5,S=1.5,a1=1,a2=1,FL=0.8,lb=lb,ub=ub,on=False)\n",
    "bsa1.run()\n",
    "\n",
    "plt.plot(bsa1.history_best_Y,label=\"不适用线性学习因子\")\n",
    "\n",
    "\n",
    "bsa2=BSA(func_need_solve,N=50,ND=nd,M=1500,FQ=3,P=0.9,C=1.5,S=1.5,a1=1,a2=1,FL=0.8,lb=lb,ub=ub,on=True)\n",
    "\n",
    "bsa2.run()\n",
    "plt.plot(bsa2.history_best_Y,label=\"使用线性学习因子\")\n",
    "\n",
    "plt.legend()\n",
    "\n",
    "print(f\"不使用线性学习因子的迭代次数{len(bsa1.history_best_Y)},最佳答案为{bsa1.best_y}\")\n",
    "print(f\"使用线性学习因子的迭代次数{len(bsa2.history_best_Y)},最佳答案为{bsa2.best_y}\")"
   ]
  }
 ],
 "metadata": {
  "kernelspec": {
   "display_name": "Python 3.9.12 ('base')",
   "language": "python",
   "name": "python3"
  },
  "language_info": {
   "codemirror_mode": {
    "name": "ipython",
    "version": 3
   },
   "file_extension": ".py",
   "mimetype": "text/x-python",
   "name": "python",
   "nbconvert_exporter": "python",
   "pygments_lexer": "ipython3",
   "version": "3.9.12"
  },
  "orig_nbformat": 4,
  "vscode": {
   "interpreter": {
    "hash": "0bb2a65585ff5a8f5f3ffb595fa8ec7d90894bbaf99caac74ba4144cd9a3ae49"
   }
  }
 },
 "nbformat": 4,
 "nbformat_minor": 2
}
